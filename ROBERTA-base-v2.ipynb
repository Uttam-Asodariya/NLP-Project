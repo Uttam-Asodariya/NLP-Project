{
 "cells": [
  {
   "cell_type": "code",
   "execution_count": 4,
   "metadata": {},
   "outputs": [],
   "source": [
    "from transformers import RobertaConfig, RobertaModel, RobertaModel, RobertaTokenizer\n",
    "import pandas as pd\n",
    "import numpy as np\n",
    "import nltk\n",
    "from sklearn.metrics.pairwise import cosine_similarity\n",
    "import torch\n",
    "from sentence_transformers import SentenceTransformer, util"
   ]
  },
  {
   "cell_type": "code",
   "execution_count": 5,
   "metadata": {},
   "outputs": [],
   "source": [
    "roberta= SentenceTransformer('sentence-transformers/stsb-roberta-base-v2')"
   ]
  },
  {
   "cell_type": "code",
   "execution_count": 6,
   "metadata": {},
   "outputs": [],
   "source": [
    "path=r\"C:\\Users\\uttam\\OneDrive\\Desktop\\NLP Project\\NLP-Project\\NLP-Dataset.csv\"\n",
    "df=pd.read_csv(path,sep=None,engine='python')"
   ]
  },
  {
   "cell_type": "code",
   "execution_count": 11,
   "metadata": {},
   "outputs": [
    {
     "data": {
      "text/plain": [
       "0    My name is uttam asodariya\n",
       "1        I am ambitious student\n",
       "2             I like travelling\n",
       "3             I cannot here you\n",
       "Name: sentence, dtype: object"
      ]
     },
     "execution_count": 11,
     "metadata": {},
     "output_type": "execute_result"
    }
   ],
   "source": [
    "train_data=df['sentence'].loc[0:3]\n",
    "test_data=df['sentence'].loc[3:]\n",
    "train_data"
   ]
  },
  {
   "cell_type": "code",
   "execution_count": 12,
   "metadata": {},
   "outputs": [
    {
     "data": {
      "text/plain": [
       "array([[-5.3699289e-02, -7.7146357e-01,  4.6951285e-01, ...,\n",
       "        -1.0547037e+00,  4.5002127e-01, -7.3245448e-01],\n",
       "       [ 3.9583394e-01, -5.8920127e-01,  2.8462794e-01, ...,\n",
       "         1.5579911e+00,  5.4898500e-02,  9.7355619e-04],\n",
       "       [ 1.1584374e+00,  1.1814145e+00, -6.0942006e-01, ...,\n",
       "         3.3660960e-01,  1.1738288e+00, -1.2833810e-01],\n",
       "       [-8.0734469e-02,  7.9900771e-01,  2.5858545e-01, ...,\n",
       "        -1.6918252e-01, -6.0843730e-01, -7.4495894e-01]], dtype=float32)"
      ]
     },
     "execution_count": 12,
     "metadata": {},
     "output_type": "execute_result"
    }
   ],
   "source": [
    "encoded_tensor=roberta.encode(train_data)      \n",
    "encoded_tensor"
   ]
  }
 ],
 "metadata": {
  "kernelspec": {
   "display_name": "base",
   "language": "python",
   "name": "python3"
  },
  "language_info": {
   "codemirror_mode": {
    "name": "ipython",
    "version": 3
   },
   "file_extension": ".py",
   "mimetype": "text/x-python",
   "name": "python",
   "nbconvert_exporter": "python",
   "pygments_lexer": "ipython3",
   "version": "3.9.7"
  },
  "orig_nbformat": 4,
  "vscode": {
   "interpreter": {
    "hash": "fc9c18c49ecff0086ebd087ab3cf18fc94c56d493e506b9bf33d86b94d3b3ea4"
   }
  }
 },
 "nbformat": 4,
 "nbformat_minor": 2
}
