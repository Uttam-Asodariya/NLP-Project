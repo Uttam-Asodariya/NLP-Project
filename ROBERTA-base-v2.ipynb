{
 "cells": [
  {
   "cell_type": "code",
   "execution_count": 1,
   "metadata": {},
   "outputs": [],
   "source": [
    "from transformers import RobertaConfig, RobertaModel, RobertaModel, RobertaTokenizer\n",
    "import pandas as pd\n",
    "import numpy as np\n",
    "import nltk\n",
    "from sklearn.metrics.pairwise import cosine_similarity\n",
    "import torch\n",
    "from sentence_transformers import SentenceTransformer, util\n",
    "import glob\n",
    "from sklearn.model_selection import train_test_split\n",
    "from sklearn import svm, metrics\n",
    "from sklearn.cluster import KMeans\n",
    "from sklearn.neural_network import MLPClassifier\n",
    "from transformers import AutoTokenizer, AutoModel"
   ]
  },
  {
   "cell_type": "code",
   "execution_count": 2,
   "metadata": {},
   "outputs": [],
   "source": [
    "# classification\n",
    "from sklearn.neural_network import MLPClassifier\n",
    "from sklearn.gaussian_process import GaussianProcessClassifier\n",
    "from sklearn.gaussian_process.kernels import RBF\n",
    "\n",
    "# Clustering\n",
    "import sklearn.cluster\n"
   ]
  },
  {
   "cell_type": "code",
   "execution_count": 3,
   "metadata": {},
   "outputs": [],
   "source": [
    "script_AD=[]\n",
    "path=r\"C:\\Users\\uttam\\OneDrive\\Desktop\\NLP Project\\NLP-Project\\Data\\AD\"\n",
    "csv_files=glob.glob(path+'/*.csv')\n",
    "for f in csv_files:\n",
    "    df=pd.read_csv(f)\n",
    "    df = df.loc[:, ~df.columns.str.contains('^Unnamed')]\n",
    "    script_AD.append(df)\n",
    "\n",
    "\n",
    "df_AD=pd.concat(script_AD,axis=0,ignore_index=True)\n",
    "label_AD=0\n",
    "df_AD['label']=label_AD\n"
   ]
  },
  {
   "cell_type": "code",
   "execution_count": 4,
   "metadata": {},
   "outputs": [],
   "source": [
    "script_HC=[]\n",
    "path=r\"C:\\Users\\uttam\\OneDrive\\Desktop\\NLP Project\\NLP-Project\\Data\\HC\"\n",
    "csv_files=glob.glob(path+'/*.csv')\n",
    "for f in csv_files:\n",
    "    df=pd.read_csv(f)\n",
    "    df = df.loc[:, ~df.columns.str.contains('^Unnamed')]\n",
    "    script_HC.append(df)\n",
    "\n",
    "\n",
    "df_HC=pd.concat(script_HC,axis=0,ignore_index=True)\n",
    "label_HC=1\n",
    "df_HC['label']=label_HC"
   ]
  },
  {
   "cell_type": "code",
   "execution_count": 5,
   "metadata": {},
   "outputs": [],
   "source": [
    "df=pd.concat([df_AD,df_HC], ignore_index=True)\n"
   ]
  },
  {
   "cell_type": "code",
   "execution_count": 6,
   "metadata": {},
   "outputs": [
    {
     "name": "stderr",
     "output_type": "stream",
     "text": [
      "Some weights of the model checkpoint at roberta-base were not used when initializing RobertaModel: ['lm_head.bias', 'lm_head.dense.bias', 'lm_head.dense.weight', 'lm_head.layer_norm.bias', 'lm_head.decoder.weight', 'lm_head.layer_norm.weight']\n",
      "- This IS expected if you are initializing RobertaModel from the checkpoint of a model trained on another task or with another architecture (e.g. initializing a BertForSequenceClassification model from a BertForPreTraining model).\n",
      "- This IS NOT expected if you are initializing RobertaModel from the checkpoint of a model that you expect to be exactly identical (initializing a BertForSequenceClassification model from a BertForSequenceClassification model).\n"
     ]
    }
   ],
   "source": [
    "tokenizer=RobertaTokenizer.from_pretrained('roberta-base')\n",
    "model = RobertaModel.from_pretrained('roberta-base',output_hidden_states=True)"
   ]
  },
  {
   "cell_type": "code",
   "execution_count": 7,
   "metadata": {},
   "outputs": [],
   "source": [
    "sentences=df['sentence']"
   ]
  },
  {
   "cell_type": "code",
   "execution_count": 8,
   "metadata": {},
   "outputs": [],
   "source": [
    "input_ids = [torch.tensor(tokenizer.encode(sentence, add_special_tokens=True)) for sentence in sentences]\n",
    "\n",
    "# Pad the sequences to have the same length\n",
    "max_len = max([len(input_id) for input_id in input_ids])\n",
    "padded_input_ids = [torch.cat((input_id, torch.zeros((max_len - len(input_id)), dtype=torch.long))) for input_id in input_ids]\n",
    "padded_input_ids = torch.stack(padded_input_ids).to(torch.int64)"
   ]
  },
  {
   "cell_type": "code",
   "execution_count": 9,
   "metadata": {},
   "outputs": [
    {
     "name": "stdout",
     "output_type": "stream",
     "text": [
      "47\n",
      "tensor([[    0,   119, 13492,  ...,     0,     0,     0],\n",
      "        [    0,   337,  4070,  ...,     0,     0,     0],\n",
      "        [    0,  8585,    18,  ...,     0,     0,     0],\n",
      "        ...,\n",
      "        [    0,   463,    79,  ...,     0,     0,     0],\n",
      "        [    0, 42803,    14,  ...,     0,     0,     0],\n",
      "        [    0,   100,    64,  ...,     0,     0,     0]])\n"
     ]
    }
   ],
   "source": [
    "print(max_len)\n",
    "print(padded_input_ids)"
   ]
  },
  {
   "cell_type": "code",
   "execution_count": 10,
   "metadata": {},
   "outputs": [],
   "source": [
    "with torch.no_grad():\n",
    "    output = model(padded_input_ids)\n",
    "    last_hidden_states = output[0] #input for next part like forward pass\n"
   ]
  },
  {
   "cell_type": "code",
   "execution_count": 13,
   "metadata": {},
   "outputs": [
    {
     "ename": "NameError",
     "evalue": "name 'last_hidden_states' is not defined",
     "output_type": "error",
     "traceback": [
      "\u001b[1;31m---------------------------------------------------------------------------\u001b[0m",
      "\u001b[1;31mNameError\u001b[0m                                 Traceback (most recent call last)",
      "\u001b[1;32mc:\\Users\\uttam\\OneDrive\\Desktop\\NLP Project\\ROBERTA-base-v2.ipynb Cell 11\u001b[0m in \u001b[0;36m<cell line: 1>\u001b[1;34m()\u001b[0m\n\u001b[1;32m----> <a href='vscode-notebook-cell:/c%3A/Users/uttam/OneDrive/Desktop/NLP%20Project/ROBERTA-base-v2.ipynb#X23sZmlsZQ%3D%3D?line=0'>1</a>\u001b[0m word_embedding\u001b[39m=\u001b[39m torch\u001b[39m.\u001b[39mcat([last_hidden_states[i] \u001b[39mfor\u001b[39;00m i \u001b[39min\u001b[39;00m [\u001b[39m-\u001b[39m\u001b[39m1\u001b[39m,\u001b[39m-\u001b[39m\u001b[39m2\u001b[39m,\u001b[39m-\u001b[39m\u001b[39m3\u001b[39m,\u001b[39m-\u001b[39m\u001b[39m4\u001b[39m]], dim\u001b[39m=\u001b[39m\u001b[39m-\u001b[39m\u001b[39m1\u001b[39m)\n",
      "\u001b[1;32mc:\\Users\\uttam\\OneDrive\\Desktop\\NLP Project\\ROBERTA-base-v2.ipynb Cell 11\u001b[0m in \u001b[0;36m<listcomp>\u001b[1;34m(.0)\u001b[0m\n\u001b[1;32m----> <a href='vscode-notebook-cell:/c%3A/Users/uttam/OneDrive/Desktop/NLP%20Project/ROBERTA-base-v2.ipynb#X23sZmlsZQ%3D%3D?line=0'>1</a>\u001b[0m word_embedding\u001b[39m=\u001b[39m torch\u001b[39m.\u001b[39mcat([last_hidden_states[i] \u001b[39mfor\u001b[39;00m i \u001b[39min\u001b[39;00m [\u001b[39m-\u001b[39m\u001b[39m1\u001b[39m,\u001b[39m-\u001b[39m\u001b[39m2\u001b[39m,\u001b[39m-\u001b[39m\u001b[39m3\u001b[39m,\u001b[39m-\u001b[39m\u001b[39m4\u001b[39m]], dim\u001b[39m=\u001b[39m\u001b[39m-\u001b[39m\u001b[39m1\u001b[39m)\n",
      "\u001b[1;31mNameError\u001b[0m: name 'last_hidden_states' is not defined"
     ]
    }
   ],
   "source": [
    "word_embedding= torch.cat([last_hidden_states[i] for i in [-1,-2,-3,-4]], dim=-1)"
   ]
  },
  {
   "cell_type": "code",
   "execution_count": null,
   "metadata": {},
   "outputs": [],
   "source": [
    "classifiers = [\n",
    "    GaussianProcessClassifier(kernel=1.0 * RBF(1.0),random_state=0,max_iter_predict=200)\n",
    "    # MLPClassifier(alpha=1, max_iter=2000),\n",
    "    ]\n",
    "\n",
    "clusters=[ KMeans(n_clusters=2, random_state=0, n_init=\"auto\"),\n",
    "        #    sklearn.cluster.DBSCAN(eps=1.25)\n",
    "          \n",
    "          \n",
    "          \n",
    "          \n",
    "          ]"
   ]
  },
  {
   "cell_type": "code",
   "execution_count": null,
   "metadata": {},
   "outputs": [
    {
     "name": "stdout",
     "output_type": "stream",
     "text": [
      "torch.Size([768])\n"
     ]
    }
   ],
   "source": [
    "# for i in range(len([0,1,2])):\n",
    "# print(f'all models value for layer:',{i})\n",
    "for j in classifiers:\n",
    "    last_layer_activations = output[2][-4:].sum(0)\n",
    "    print(last_layer_activations.shape)\n",
    "    # word_embeddings = last_layer_activations.mean(dim=1)\n",
    "    # x = word_embeddings\n",
    "    # y = df['label']\n",
    "    # x_train, x_test, y_train, y_test = train_test_split(\n",
    "    #     x, y, test_size=0.3, random_state=0)\n",
    "\n",
    "    # model = j\n",
    "    # model.fit(x_train,y_train)\n",
    "    # y_pred=model.predict(x_test)\n",
    "\n",
    "\n",
    "    # print(f\"print score for {j}:{metrics.accuracy_score(y_test,y_pred)}\")\n",
    "\n",
    "    # Clustering method:\n",
    "\n",
    "\n",
    "# GaussianProcessClassifier result is 68%(at layer:3).\n"
   ]
  },
  {
   "cell_type": "code",
   "execution_count": null,
   "metadata": {},
   "outputs": [],
   "source": []
  }
 ],
 "metadata": {
  "kernelspec": {
   "display_name": "base",
   "language": "python",
   "name": "python3"
  },
  "language_info": {
   "codemirror_mode": {
    "name": "ipython",
    "version": 3
   },
   "file_extension": ".py",
   "mimetype": "text/x-python",
   "name": "python",
   "nbconvert_exporter": "python",
   "pygments_lexer": "ipython3",
   "version": "3.9.7"
  },
  "orig_nbformat": 4,
  "vscode": {
   "interpreter": {
    "hash": "fc9c18c49ecff0086ebd087ab3cf18fc94c56d493e506b9bf33d86b94d3b3ea4"
   }
  }
 },
 "nbformat": 4,
 "nbformat_minor": 2
}
