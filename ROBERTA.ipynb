{
 "cells": [
  {
   "cell_type": "code",
   "execution_count": 4,
   "metadata": {},
   "outputs": [
    {
     "data": {
      "text/plain": [
       "' -Use dynamic mask, instead of static mask\\n     -Remove the NSP task and train using the MLM task\\n     -Train with latge batch size\\n     -use byte-level BPE(BBPE) as a tokenizer\\n     '"
      ]
     },
     "execution_count": 4,
     "metadata": {},
     "output_type": "execute_result"
    }
   ],
   "source": [
    "#RoBERTa is BERT variation but following changes\n",
    "''' -Use dynamic mask, instead of static mask\n",
    "     -Remove the NSP task and train using the MLM task\n",
    "     -Train with latge batch size\n",
    "     -use byte-level BPE(BBPE) as a tokenizer\n",
    "     '''"
   ]
  },
  {
   "cell_type": "code",
   "execution_count": 5,
   "metadata": {},
   "outputs": [],
   "source": [
    "#SOP basically a classification task, classify pair of words belongs to positive or negative class(Order of word not swapped)\n",
    " #or negative class(order of word swapped)"
   ]
  },
  {
   "cell_type": "code",
   "execution_count": 6,
   "metadata": {},
   "outputs": [],
   "source": [
    "from transformers import RobertaConfig, RobertaModel, RobertaModel, RobertaTokenizer\n",
    "import pandas as pd\n",
    "import numpy as np\n",
    "import nltk\n",
    "import torch"
   ]
  },
  {
   "cell_type": "code",
   "execution_count": 122,
   "metadata": {},
   "outputs": [
    {
     "name": "stderr",
     "output_type": "stream",
     "text": [
      "Some weights of the model checkpoint at roberta-base were not used when initializing RobertaModel: ['lm_head.layer_norm.weight', 'lm_head.layer_norm.bias', 'lm_head.bias', 'lm_head.decoder.weight', 'lm_head.dense.weight', 'lm_head.dense.bias']\n",
      "- This IS expected if you are initializing RobertaModel from the checkpoint of a model trained on another task or with another architecture (e.g. initializing a BertForSequenceClassification model from a BertForPreTraining model).\n",
      "- This IS NOT expected if you are initializing RobertaModel from the checkpoint of a model that you expect to be exactly identical (initializing a BertForSequenceClassification model from a BertForSequenceClassification model).\n"
     ]
    },
    {
     "data": {
      "text/plain": [
       "RobertaConfig {\n",
       "  \"_name_or_path\": \"roberta-base\",\n",
       "  \"architectures\": [\n",
       "    \"RobertaForMaskedLM\"\n",
       "  ],\n",
       "  \"attention_probs_dropout_prob\": 0.1,\n",
       "  \"bos_token_id\": 0,\n",
       "  \"classifier_dropout\": null,\n",
       "  \"eos_token_id\": 2,\n",
       "  \"hidden_act\": \"gelu\",\n",
       "  \"hidden_dropout_prob\": 0.1,\n",
       "  \"hidden_size\": 768,\n",
       "  \"initializer_range\": 0.02,\n",
       "  \"intermediate_size\": 3072,\n",
       "  \"layer_norm_eps\": 1e-05,\n",
       "  \"max_position_embeddings\": 514,\n",
       "  \"model_type\": \"roberta\",\n",
       "  \"num_attention_heads\": 12,\n",
       "  \"num_hidden_layers\": 12,\n",
       "  \"output_hidden_states\": true,\n",
       "  \"pad_token_id\": 1,\n",
       "  \"position_embedding_type\": \"absolute\",\n",
       "  \"transformers_version\": \"4.25.1\",\n",
       "  \"type_vocab_size\": 1,\n",
       "  \"use_cache\": true,\n",
       "  \"vocab_size\": 50265\n",
       "}"
      ]
     },
     "execution_count": 122,
     "metadata": {},
     "output_type": "execute_result"
    }
   ],
   "source": [
    "roberta=RobertaModel.from_pretrained('roberta-base',output_hidden_states=True)\n",
    "roberta.config"
   ]
  },
  {
   "cell_type": "code",
   "execution_count": 8,
   "metadata": {},
   "outputs": [],
   "source": [
    "tokenizer=RobertaTokenizer.from_pretrained('roberta-base')"
   ]
  },
  {
   "cell_type": "code",
   "execution_count": 9,
   "metadata": {},
   "outputs": [
    {
     "data": {
      "text/html": [
       "<div>\n",
       "<style scoped>\n",
       "    .dataframe tbody tr th:only-of-type {\n",
       "        vertical-align: middle;\n",
       "    }\n",
       "\n",
       "    .dataframe tbody tr th {\n",
       "        vertical-align: top;\n",
       "    }\n",
       "\n",
       "    .dataframe thead th {\n",
       "        text-align: right;\n",
       "    }\n",
       "</style>\n",
       "<table border=\"1\" class=\"dataframe\">\n",
       "  <thead>\n",
       "    <tr style=\"text-align: right;\">\n",
       "      <th></th>\n",
       "      <th>sentence</th>\n",
       "      <th>label</th>\n",
       "    </tr>\n",
       "  </thead>\n",
       "  <tbody>\n",
       "    <tr>\n",
       "      <th>0</th>\n",
       "      <td>My name is uttam asodariya</td>\n",
       "      <td>0</td>\n",
       "    </tr>\n",
       "    <tr>\n",
       "      <th>1</th>\n",
       "      <td>I am ambitious student</td>\n",
       "      <td>1</td>\n",
       "    </tr>\n",
       "    <tr>\n",
       "      <th>2</th>\n",
       "      <td>I like travelling</td>\n",
       "      <td>0</td>\n",
       "    </tr>\n",
       "    <tr>\n",
       "      <th>3</th>\n",
       "      <td>I cannot here you</td>\n",
       "      <td>1</td>\n",
       "    </tr>\n",
       "  </tbody>\n",
       "</table>\n",
       "</div>"
      ],
      "text/plain": [
       "                     sentence  label\n",
       "0  My name is uttam asodariya      0\n",
       "1      I am ambitious student      1\n",
       "2           I like travelling      0\n",
       "3           I cannot here you      1"
      ]
     },
     "execution_count": 9,
     "metadata": {},
     "output_type": "execute_result"
    }
   ],
   "source": [
    "path=r\"C:\\Users\\uttam\\OneDrive\\Desktop\\NLP Project\\NLP-Project\\NLP-Dataset.csv\"\n",
    "df=pd.read_csv(path,sep=None,engine='python')\n",
    "df"
   ]
  },
  {
   "cell_type": "code",
   "execution_count": 10,
   "metadata": {},
   "outputs": [
    {
     "data": {
      "text/plain": [
       "0    My name is uttam asodariya\n",
       "1        I am ambitious student\n",
       "2             I like travelling\n",
       "Name: sentence, dtype: object"
      ]
     },
     "execution_count": 10,
     "metadata": {},
     "output_type": "execute_result"
    }
   ],
   "source": [
    "train_data=df['sentence'].loc[0:2]\n",
    "test_data=df['sentence'].loc[3:]\n",
    "train_data"
   ]
  },
  {
   "cell_type": "code",
   "execution_count": 160,
   "metadata": {},
   "outputs": [],
   "source": [
    "def Word_embedding(dataframe):\n",
    "    for i in dataframe:\n",
    "        input = torch.tensor(tokenizer.encode(i, add_special_tokens=True)).unsqueeze(0)\n",
    "        \n",
    "        with torch.no_grad():\n",
    "            output = roberta(input)\n",
    "            last_hidden_states=output[2]\n",
    "            \n",
    "            sum_of_encoders=torch.stack(last_hidden_states).sum(0)\n",
    "            sum_of_encoders=sum_of_encoders/12\n",
    "            print(sum_of_encoders)\n",
    "        "
   ]
  },
  {
   "cell_type": "code",
   "execution_count": 161,
   "metadata": {},
   "outputs": [
    {
     "name": "stdout",
     "output_type": "stream",
     "text": [
      "tensor([[[ 0.0027,  0.0491, -0.0048,  ...,  0.0226,  0.0048, -0.0221],\n",
      "         [-0.0660,  0.4460,  0.1020,  ...,  0.1256, -0.2572, -0.1148],\n",
      "         [-0.1083,  0.5719,  0.0382,  ..., -0.1385, -0.2744, -0.1559],\n",
      "         ...,\n",
      "         [ 0.0997, -0.0749,  0.1950,  ..., -1.2354, -0.3278, -0.2891],\n",
      "         [ 0.0701, -0.5414,  0.1331,  ..., -0.9609, -0.4482, -0.7704],\n",
      "         [-0.0280,  0.0686,  0.0474,  ...,  0.2652,  0.0256, -0.1421]]])\n",
      "tensor([[[ 2.9430e-03,  5.1475e-02, -2.2139e-04,  ...,  5.4950e-02,\n",
      "           4.9662e-03, -1.6725e-02],\n",
      "         [ 4.3071e-02,  2.5084e-01,  2.9740e-01,  ...,  4.8996e-01,\n",
      "          -7.6162e-02,  1.8444e-02],\n",
      "         [ 1.6980e-01,  5.4599e-01,  9.3926e-02,  ...,  4.9652e-02,\n",
      "          -5.9217e-02,  1.4925e-01],\n",
      "         [ 8.2230e-02, -5.8170e-01, -1.0042e-02,  ...,  5.0498e-01,\n",
      "           2.4779e-01,  1.5696e-01],\n",
      "         [ 2.2071e-01, -5.3641e-01, -3.4504e-01,  ..., -3.3112e-02,\n",
      "          -2.8576e-01, -1.4333e-01],\n",
      "         [ 1.3871e-02, -4.7754e-02,  8.3851e-02,  ...,  2.8650e-01,\n",
      "           1.8478e-02, -7.1004e-02]]])\n",
      "tensor([[[-0.0013,  0.0590, -0.0016,  ...,  0.0525,  0.0114, -0.0169],\n",
      "         [-0.1355,  0.1777,  0.2684,  ...,  0.6239,  0.0504, -0.1669],\n",
      "         [ 0.0181,  0.1063,  0.3120,  ...,  0.6740,  0.2848, -0.3771],\n",
      "         [ 0.2140, -0.0443,  0.2484,  ...,  0.6261,  0.0774, -0.3788],\n",
      "         [-0.0118, -0.0299,  0.0590,  ...,  0.2274,  0.0101, -0.0874]]])\n"
     ]
    }
   ],
   "source": [
    "Word_embedding(train_data)"
   ]
  }
 ],
 "metadata": {
  "kernelspec": {
   "display_name": "base",
   "language": "python",
   "name": "python3"
  },
  "language_info": {
   "codemirror_mode": {
    "name": "ipython",
    "version": 3
   },
   "file_extension": ".py",
   "mimetype": "text/x-python",
   "name": "python",
   "nbconvert_exporter": "python",
   "pygments_lexer": "ipython3",
   "version": "3.9.7"
  },
  "orig_nbformat": 4,
  "vscode": {
   "interpreter": {
    "hash": "fc9c18c49ecff0086ebd087ab3cf18fc94c56d493e506b9bf33d86b94d3b3ea4"
   }
  }
 },
 "nbformat": 4,
 "nbformat_minor": 2
}
